{
 "cells": [
  {
   "cell_type": "code",
   "execution_count": 1,
   "metadata": {},
   "outputs": [],
   "source": [
    "import torch\n",
    "from torch import nn\n",
    "from torch.utils.data import DataLoader\n",
    "from torchvision import datasets\n",
    "from torchvision.transforms import ToTensor\n",
    "import numpy as np"
   ]
  },
  {
   "cell_type": "code",
   "execution_count": 2,
   "metadata": {},
   "outputs": [],
   "source": [
    "from data.dataset import VideoDataSet\n",
    "from sklearn.preprocessing import LabelEncoder\n",
    "import random\n",
    "import numpy as np\n",
    "train_dataset = VideoDataSet('train')\n",
    "test_dataset = VideoDataSet('test')\n",
    "le = LabelEncoder()\n",
    "label = train_dataset.get_label()\n",
    "le.fit(label)\n",
    "\n"
   ]
  },
  {
   "cell_type": "code",
   "execution_count": 3,
   "metadata": {},
   "outputs": [],
   "source": [
    "\n",
    "def collate_fn(batch):\n",
    "    frames = [b[0] for b in batch]\n",
    "    masks = [torch.ones(b[0].shape[0]) for b in batch]\n",
    "    frames = torch.nn.utils.rnn.pad_sequence(frames)\n",
    "    masks = torch.nn.utils.rnn.pad_sequence(masks)\n",
    "    frames = torch.transpose(frames, 0 , 1)\n",
    "    masks = torch.transpose(masks, 0 , 1)\n",
    "    item = le.transform([b[1] for b in batch])\n",
    "    labels = torch.tensor(item)\n",
    "    return (frames, masks), labels\n",
    "\n",
    "batch_size = 8\n",
    "class_num = len(label)\n",
    "# train_data_loader = torch.utils.data.DataLoader(train_dataset,batch_size=32, collate_fn = collate_fn)\n",
    "# test_data_loader = torch.utils.data.DataLoader(test_dataset,batch_size=32, collate_fn = collate_fn)\n",
    "train_data_loader = torch.load('train_data.pt')\n",
    "train_data_loader = torch.utils.data.DataLoader(train_data_loader.dataset,batch_size=batch_size, collate_fn = collate_fn)\n",
    "test_data_loader = torch.load('test_data.pt')\n",
    "test_data_loader = torch.utils.data.DataLoader(test_data_loader.dataset,batch_size=batch_size, collate_fn = collate_fn)"
   ]
  },
  {
   "cell_type": "code",
   "execution_count": 14,
   "metadata": {},
   "outputs": [],
   "source": [
    "from tqdm import tqdm\n",
    "def train(data_loader, model, loss_fn, optimizer, masking):\n",
    "    model.train()\n",
    "    # pbar = tqdm(range(len(data_loader)))\n",
    "    correct = 0\n",
    "    for batch, (X, y) in enumerate(data_loader):\n",
    "        # pbar.update()\n",
    "        frames, mask = X\n",
    "        frames = frames.to('cuda')\n",
    "        y = y.type(torch.int64)\n",
    "\n",
    "        pred = model(frames)\n",
    "        pred = pred.to('cpu')\n",
    "        if masking:\n",
    "            mask = torch.count_nonzero(mask,axis=-1) - 1\n",
    "            mask = torch.reshape(mask, (mask.shape[0],1,1))\n",
    "            mask = torch.tile(mask, (1,1,class_num))\n",
    "            pred = torch.gather(pred, 1, mask)\n",
    "            pred = torch.squeeze(pred)\n",
    "        else:\n",
    "            pred = pred[:,-1,:]\n",
    "            \n",
    "        loss = loss_fn(pred, y)\n",
    "        optimizer.zero_grad()\n",
    "        loss.backward()\n",
    "        optimizer.step()\n",
    "        correct += (pred.argmax(1) == y).type(torch.float).sum().item()\n",
    "    #     pbar.set_description(f'loss:{loss.item():<.3f} acc:{correct / (data_loader.batch_size*(batch+1)) * 100 :.3f}%')\n",
    "    # del pbar\n",
    "\n",
    "def test(data_loader, model, loss_fn, masking):\n",
    "    pbar = tqdm(range(len(data_loader)))\n",
    "    model.eval()\n",
    "    correct = 0\n",
    "    with torch.no_grad():\n",
    "        for batch, (X, y) in enumerate(data_loader):\n",
    "            pbar.update()\n",
    "            frames, mask = X\n",
    "            frames = frames.to('cuda')\n",
    "            y = y.type(torch.int64)\n",
    "\n",
    "            pred = model(frames)\n",
    "            pred = pred.to('cpu')\n",
    "            if masking:\n",
    "                mask = torch.count_nonzero(mask,axis=-1) - 1\n",
    "                mask = torch.reshape(mask, (mask.shape[0],1,1))\n",
    "                mask = torch.tile(mask, (1,1,class_num))\n",
    "                pred = torch.gather(pred, 1, mask)\n",
    "                pred = torch.squeeze(pred)\n",
    "            else:\n",
    "                pred = pred[:,-1,:]\n",
    "\n",
    "            loss = loss_fn(pred, y)\n",
    "            correct += (pred.argmax(1) == y).type(torch.float).sum().item()\n",
    "            pbar.set_description(f'loss:{loss.item():<.3f} acc:{correct / (data_loader.batch_size*(batch+1)) * 100 :.3f}%')\n",
    "    del pbar"
   ]
  },
  {
   "cell_type": "code",
   "execution_count": 18,
   "metadata": {},
   "outputs": [
    {
     "name": "stderr",
     "output_type": "stream",
     "text": [
      "loss:1.090 acc:85.714%: 100%|██████████| 28/28 [00:00<00:00, 192.40it/s]\n",
      "loss:1.173 acc:73.661%: 100%|██████████| 28/28 [00:00<00:00, 195.97it/s]\n",
      "loss:1.173 acc:74.107%: 100%|██████████| 28/28 [00:00<00:00, 174.93it/s]\n",
      "loss:1.161 acc:84.375%: 100%|██████████| 28/28 [00:00<00:00, 195.72it/s]\n",
      "loss:1.084 acc:87.054%: 100%|██████████| 28/28 [00:00<00:00, 171.69it/s]\n",
      "loss:1.180 acc:82.143%: 100%|██████████| 28/28 [00:00<00:00, 190.65it/s]\n",
      "loss:1.236 acc:72.321%: 100%|██████████| 28/28 [00:00<00:00, 206.61it/s]\n",
      "loss:1.088 acc:80.357%: 100%|██████████| 28/28 [00:00<00:00, 188.42it/s]\n",
      "loss:1.130 acc:86.161%: 100%|██████████| 28/28 [00:00<00:00, 208.81it/s]\n"
     ]
    },
    {
     "ename": "KeyboardInterrupt",
     "evalue": "",
     "output_type": "error",
     "traceback": [
      "\u001b[1;31m---------------------------------------------------------------------------\u001b[0m",
      "\u001b[1;31mKeyboardInterrupt\u001b[0m                         Traceback (most recent call last)",
      "Cell \u001b[1;32mIn [18], line 19\u001b[0m\n\u001b[0;32m     17\u001b[0m     optimizer \u001b[39m=\u001b[39m torch\u001b[39m.\u001b[39moptim\u001b[39m.\u001b[39mAdam(model\u001b[39m.\u001b[39mparameters(), lr\u001b[39m=\u001b[39m\u001b[39m1e-3\u001b[39m)\n\u001b[0;32m     18\u001b[0m     \u001b[39mfor\u001b[39;00m i \u001b[39min\u001b[39;00m \u001b[39mrange\u001b[39m(\u001b[39m20\u001b[39m):\n\u001b[1;32m---> 19\u001b[0m         train(train_data_loader, model, loss_fn, optimizer, \u001b[39mTrue\u001b[39;49;00m)\n\u001b[0;32m     20\u001b[0m     test(test_data_loader, model, loss_fn, \u001b[39mTrue\u001b[39;00m)\n\u001b[0;32m     23\u001b[0m random\u001b[39m.\u001b[39mseed(\u001b[39m14\u001b[39m)\n",
      "Cell \u001b[1;32mIn [14], line 25\u001b[0m, in \u001b[0;36mtrain\u001b[1;34m(data_loader, model, loss_fn, optimizer, masking)\u001b[0m\n\u001b[0;32m     23\u001b[0m loss \u001b[39m=\u001b[39m loss_fn(pred, y)\n\u001b[0;32m     24\u001b[0m optimizer\u001b[39m.\u001b[39mzero_grad()\n\u001b[1;32m---> 25\u001b[0m loss\u001b[39m.\u001b[39;49mbackward()\n\u001b[0;32m     26\u001b[0m optimizer\u001b[39m.\u001b[39mstep()\n\u001b[0;32m     27\u001b[0m correct \u001b[39m+\u001b[39m\u001b[39m=\u001b[39m (pred\u001b[39m.\u001b[39margmax(\u001b[39m1\u001b[39m) \u001b[39m==\u001b[39m y)\u001b[39m.\u001b[39mtype(torch\u001b[39m.\u001b[39mfloat)\u001b[39m.\u001b[39msum()\u001b[39m.\u001b[39mitem()\n",
      "File \u001b[1;32mc:\\Users\\evilr\\AppData\\Local\\Programs\\Python\\Python39\\lib\\site-packages\\torch\\_tensor.py:396\u001b[0m, in \u001b[0;36mTensor.backward\u001b[1;34m(self, gradient, retain_graph, create_graph, inputs)\u001b[0m\n\u001b[0;32m    387\u001b[0m \u001b[39mif\u001b[39;00m has_torch_function_unary(\u001b[39mself\u001b[39m):\n\u001b[0;32m    388\u001b[0m     \u001b[39mreturn\u001b[39;00m handle_torch_function(\n\u001b[0;32m    389\u001b[0m         Tensor\u001b[39m.\u001b[39mbackward,\n\u001b[0;32m    390\u001b[0m         (\u001b[39mself\u001b[39m,),\n\u001b[1;32m   (...)\u001b[0m\n\u001b[0;32m    394\u001b[0m         create_graph\u001b[39m=\u001b[39mcreate_graph,\n\u001b[0;32m    395\u001b[0m         inputs\u001b[39m=\u001b[39minputs)\n\u001b[1;32m--> 396\u001b[0m torch\u001b[39m.\u001b[39;49mautograd\u001b[39m.\u001b[39;49mbackward(\u001b[39mself\u001b[39;49m, gradient, retain_graph, create_graph, inputs\u001b[39m=\u001b[39;49minputs)\n",
      "File \u001b[1;32mc:\\Users\\evilr\\AppData\\Local\\Programs\\Python\\Python39\\lib\\site-packages\\torch\\autograd\\__init__.py:173\u001b[0m, in \u001b[0;36mbackward\u001b[1;34m(tensors, grad_tensors, retain_graph, create_graph, grad_variables, inputs)\u001b[0m\n\u001b[0;32m    168\u001b[0m     retain_graph \u001b[39m=\u001b[39m create_graph\n\u001b[0;32m    170\u001b[0m \u001b[39m# The reason we repeat same the comment below is that\u001b[39;00m\n\u001b[0;32m    171\u001b[0m \u001b[39m# some Python versions print out the first line of a multi-line function\u001b[39;00m\n\u001b[0;32m    172\u001b[0m \u001b[39m# calls in the traceback and some print out the last line\u001b[39;00m\n\u001b[1;32m--> 173\u001b[0m Variable\u001b[39m.\u001b[39;49m_execution_engine\u001b[39m.\u001b[39;49mrun_backward(  \u001b[39m# Calls into the C++ engine to run the backward pass\u001b[39;49;00m\n\u001b[0;32m    174\u001b[0m     tensors, grad_tensors_, retain_graph, create_graph, inputs,\n\u001b[0;32m    175\u001b[0m     allow_unreachable\u001b[39m=\u001b[39;49m\u001b[39mTrue\u001b[39;49;00m, accumulate_grad\u001b[39m=\u001b[39;49m\u001b[39mTrue\u001b[39;49;00m)\n",
      "\u001b[1;31mKeyboardInterrupt\u001b[0m: "
     ]
    }
   ],
   "source": [
    "\n",
    "import Model\n",
    "\n",
    "random.seed(14)\n",
    "np.random.seed(14)\n",
    "torch.manual_seed(14)\n",
    "torch.cuda.manual_seed(14)\n",
    "torch.backends.cudnn.deterministic = True\n",
    "torch.backends.cudnn.benchmark = False\n",
    "\n",
    "\n",
    "print(\"train with masking\")\n",
    "for t in (range(10)):\n",
    "    size = len(test_data_loader)\n",
    "    model = Model.CNNRNN(class_num)\n",
    "    model.to('cuda')\n",
    "    loss_fn = nn.CrossEntropyLoss()\n",
    "    optimizer = torch.optim.Adam(model.parameters(), lr=1e-3)\n",
    "    for i in range(20):\n",
    "        train(train_data_loader, model, loss_fn, optimizer, True)\n",
    "    test(test_data_loader, model, loss_fn, True)\n",
    "\n",
    "\n",
    "random.seed(14)\n",
    "np.random.seed(14)\n",
    "torch.manual_seed(14)\n",
    "torch.cuda.manual_seed(14)\n",
    "torch.backends.cudnn.deterministic = True\n",
    "torch.backends.cudnn.benchmark = False\n",
    "\n",
    "\n",
    "print(\"train without masking\")\n",
    "for t in (range(10)):\n",
    "    size = len(test_data_loader)\n",
    "    model = Model.CNNRNN(class_num)\n",
    "    model.to('cuda')\n",
    "    loss_fn = nn.CrossEntropyLoss()\n",
    "    optimizer = torch.optim.Adam(model.parameters(), lr=1e-3)\n",
    "    for i in range(20):\n",
    "        train(train_data_loader, model, loss_fn, optimizer, False)\n",
    "    test(test_data_loader, model, loss_fn, False) "
   ]
  }
 ],
 "metadata": {
  "kernelspec": {
   "display_name": "Python 3",
   "language": "python",
   "name": "python3"
  },
  "language_info": {
   "codemirror_mode": {
    "name": "ipython",
    "version": 3
   },
   "file_extension": ".py",
   "mimetype": "text/x-python",
   "name": "python",
   "nbconvert_exporter": "python",
   "pygments_lexer": "ipython3",
   "version": "3.9.7"
  },
  "orig_nbformat": 4,
  "vscode": {
   "interpreter": {
    "hash": "f5f227904729d2e34638b12d6189826106a201c215150695c35e0f334bf03903"
   }
  }
 },
 "nbformat": 4,
 "nbformat_minor": 2
}
