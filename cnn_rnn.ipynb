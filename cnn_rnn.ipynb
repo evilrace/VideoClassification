{
 "cells": [
  {
   "cell_type": "code",
   "execution_count": 1,
   "metadata": {},
   "outputs": [],
   "source": [
    "import torch\n",
    "from torch import nn\n",
    "from torch.utils.data import DataLoader\n",
    "from torchvision import datasets\n",
    "from torchvision.transforms import ToTensor\n",
    "import numpy as np"
   ]
  },
  {
   "cell_type": "code",
   "execution_count": 2,
   "metadata": {},
   "outputs": [
    {
     "name": "stderr",
     "output_type": "stream",
     "text": [
      "Downloading: \"https://download.pytorch.org/models/resnet50-11ad3fa6.pth\" to C:\\Users\\evilr/.cache\\torch\\hub\\checkpoints\\resnet50-11ad3fa6.pth\n"
     ]
    },
    {
     "data": {
      "application/vnd.jupyter.widget-view+json": {
       "model_id": "bb223d5f150f4498b155bdfb00dc684e",
       "version_major": 2,
       "version_minor": 0
      },
      "text/plain": [
       "  0%|          | 0.00/97.8M [00:00<?, ?B/s]"
      ]
     },
     "metadata": {},
     "output_type": "display_data"
    },
    {
     "name": "stdout",
     "output_type": "stream",
     "text": [
      "['Punch', 'ShavingBeard', 'CricketShot', 'PlayingCello', 'TennisSwing']\n"
     ]
    },
    {
     "data": {
      "text/html": [
       "<style>#sk-container-id-1 {color: black;background-color: white;}#sk-container-id-1 pre{padding: 0;}#sk-container-id-1 div.sk-toggleable {background-color: white;}#sk-container-id-1 label.sk-toggleable__label {cursor: pointer;display: block;width: 100%;margin-bottom: 0;padding: 0.3em;box-sizing: border-box;text-align: center;}#sk-container-id-1 label.sk-toggleable__label-arrow:before {content: \"▸\";float: left;margin-right: 0.25em;color: #696969;}#sk-container-id-1 label.sk-toggleable__label-arrow:hover:before {color: black;}#sk-container-id-1 div.sk-estimator:hover label.sk-toggleable__label-arrow:before {color: black;}#sk-container-id-1 div.sk-toggleable__content {max-height: 0;max-width: 0;overflow: hidden;text-align: left;background-color: #f0f8ff;}#sk-container-id-1 div.sk-toggleable__content pre {margin: 0.2em;color: black;border-radius: 0.25em;background-color: #f0f8ff;}#sk-container-id-1 input.sk-toggleable__control:checked~div.sk-toggleable__content {max-height: 200px;max-width: 100%;overflow: auto;}#sk-container-id-1 input.sk-toggleable__control:checked~label.sk-toggleable__label-arrow:before {content: \"▾\";}#sk-container-id-1 div.sk-estimator input.sk-toggleable__control:checked~label.sk-toggleable__label {background-color: #d4ebff;}#sk-container-id-1 div.sk-label input.sk-toggleable__control:checked~label.sk-toggleable__label {background-color: #d4ebff;}#sk-container-id-1 input.sk-hidden--visually {border: 0;clip: rect(1px 1px 1px 1px);clip: rect(1px, 1px, 1px, 1px);height: 1px;margin: -1px;overflow: hidden;padding: 0;position: absolute;width: 1px;}#sk-container-id-1 div.sk-estimator {font-family: monospace;background-color: #f0f8ff;border: 1px dotted black;border-radius: 0.25em;box-sizing: border-box;margin-bottom: 0.5em;}#sk-container-id-1 div.sk-estimator:hover {background-color: #d4ebff;}#sk-container-id-1 div.sk-parallel-item::after {content: \"\";width: 100%;border-bottom: 1px solid gray;flex-grow: 1;}#sk-container-id-1 div.sk-label:hover label.sk-toggleable__label {background-color: #d4ebff;}#sk-container-id-1 div.sk-serial::before {content: \"\";position: absolute;border-left: 1px solid gray;box-sizing: border-box;top: 0;bottom: 0;left: 50%;z-index: 0;}#sk-container-id-1 div.sk-serial {display: flex;flex-direction: column;align-items: center;background-color: white;padding-right: 0.2em;padding-left: 0.2em;position: relative;}#sk-container-id-1 div.sk-item {position: relative;z-index: 1;}#sk-container-id-1 div.sk-parallel {display: flex;align-items: stretch;justify-content: center;background-color: white;position: relative;}#sk-container-id-1 div.sk-item::before, #sk-container-id-1 div.sk-parallel-item::before {content: \"\";position: absolute;border-left: 1px solid gray;box-sizing: border-box;top: 0;bottom: 0;left: 50%;z-index: -1;}#sk-container-id-1 div.sk-parallel-item {display: flex;flex-direction: column;z-index: 1;position: relative;background-color: white;}#sk-container-id-1 div.sk-parallel-item:first-child::after {align-self: flex-end;width: 50%;}#sk-container-id-1 div.sk-parallel-item:last-child::after {align-self: flex-start;width: 50%;}#sk-container-id-1 div.sk-parallel-item:only-child::after {width: 0;}#sk-container-id-1 div.sk-dashed-wrapped {border: 1px dashed gray;margin: 0 0.4em 0.5em 0.4em;box-sizing: border-box;padding-bottom: 0.4em;background-color: white;}#sk-container-id-1 div.sk-label label {font-family: monospace;font-weight: bold;display: inline-block;line-height: 1.2em;}#sk-container-id-1 div.sk-label-container {text-align: center;}#sk-container-id-1 div.sk-container {/* jupyter's `normalize.less` sets `[hidden] { display: none; }` but bootstrap.min.css set `[hidden] { display: none !important; }` so we also need the `!important` here to be able to override the default hidden behavior on the sphinx rendered scikit-learn.org. See: https://github.com/scikit-learn/scikit-learn/issues/21755 */display: inline-block !important;position: relative;}#sk-container-id-1 div.sk-text-repr-fallback {display: none;}</style><div id=\"sk-container-id-1\" class=\"sk-top-container\"><div class=\"sk-text-repr-fallback\"><pre>LabelEncoder()</pre><b>In a Jupyter environment, please rerun this cell to show the HTML representation or trust the notebook. <br />On GitHub, the HTML representation is unable to render, please try loading this page with nbviewer.org.</b></div><div class=\"sk-container\" hidden><div class=\"sk-item\"><div class=\"sk-estimator sk-toggleable\"><input class=\"sk-toggleable__control sk-hidden--visually\" id=\"sk-estimator-id-1\" type=\"checkbox\" checked><label for=\"sk-estimator-id-1\" class=\"sk-toggleable__label sk-toggleable__label-arrow\">LabelEncoder</label><div class=\"sk-toggleable__content\"><pre>LabelEncoder()</pre></div></div></div></div></div>"
      ],
      "text/plain": [
       "LabelEncoder()"
      ]
     },
     "execution_count": 2,
     "metadata": {},
     "output_type": "execute_result"
    }
   ],
   "source": [
    "from data.dataset import VideoDataSet\n",
    "from sklearn.preprocessing import LabelEncoder\n",
    "train_dataset = VideoDataSet('train')\n",
    "le = LabelEncoder()\n",
    "label = train_dataset.get_label()\n",
    "print(label)\n",
    "le.fit(label)"
   ]
  },
  {
   "cell_type": "code",
   "execution_count": 3,
   "metadata": {},
   "outputs": [],
   "source": [
    "\n",
    "def collate_fn(batch):\n",
    "    frames = [b[0] for b in batch]\n",
    "    masks = [torch.ones(b[0].shape[0]) for b in batch]\n",
    "    frames = torch.nn.utils.rnn.pad_sequence(frames)\n",
    "    masks = torch.nn.utils.rnn.pad_sequence(masks)\n",
    "\n",
    "    frames = torch.transpose(frames, 0 , 1)\n",
    "    masks = torch.transpose(masks, 0 , 1)\n",
    "    item = le.transform([b[1] for b in batch])\n",
    "    labels = torch.tensor(item)\n",
    "    return (frames, masks), labels\n",
    "\n",
    "data_loader = torch.utils.data.DataLoader(train_dataset,batch_size=32, collate_fn = collate_fn)"
   ]
  },
  {
   "cell_type": "code",
   "execution_count": 59,
   "metadata": {},
   "outputs": [
    {
     "name": "stderr",
     "output_type": "stream",
     "text": [
      "loss:1.005 acc:73.355%: 100%|██████████| 19/19 [00:00<00:00, 50.56it/s]\n",
      "loss:0.963 acc:88.980%: 100%|██████████| 19/19 [00:00<00:00, 78.92it/s]\n",
      "loss:0.906 acc:94.243%: 100%|██████████| 19/19 [00:00<00:00, 75.40it/s]\n",
      "loss:0.906 acc:94.901%: 100%|██████████| 19/19 [00:00<00:00, 73.64it/s]\n",
      "loss:0.906 acc:97.204%: 100%|██████████| 19/19 [00:00<00:00, 76.92it/s]\n",
      "loss:0.905 acc:97.204%: 100%|██████████| 19/19 [00:00<00:00, 78.51it/s]\n",
      "loss:0.905 acc:97.204%: 100%|██████████| 19/19 [00:00<00:00, 78.51it/s] \n",
      "loss:0.905 acc:97.204%: 100%|██████████| 19/19 [00:00<00:00, 80.67it/s] \n",
      "loss:0.905 acc:97.697%: 100%|██████████| 19/19 [00:00<00:00, 76.30it/s] \n",
      "loss:0.905 acc:97.697%: 100%|██████████| 19/19 [00:00<00:00, 71.70it/s] \n",
      "loss:0.905 acc:97.697%: 100%|██████████| 19/19 [00:00<00:00, 77.87it/s] \n",
      "loss:0.905 acc:97.697%: 100%|██████████| 19/19 [00:00<00:00, 73.64it/s] \n",
      "loss:0.905 acc:97.697%: 100%|██████████| 19/19 [00:00<00:00, 73.64it/s] \n",
      "loss:0.905 acc:97.697%: 100%|██████████| 19/19 [00:00<00:00, 72.12it/s] \n",
      "loss:0.905 acc:97.697%: 100%|██████████| 19/19 [00:00<00:00, 71.09it/s] \n",
      "loss:0.905 acc:97.697%: 100%|██████████| 19/19 [00:00<00:00, 75.34it/s] \n",
      "loss:0.905 acc:97.697%: 100%|██████████| 19/19 [00:00<00:00, 76.61it/s] \n",
      "loss:0.905 acc:97.697%: 100%|██████████| 19/19 [00:00<00:00, 78.51it/s] \n",
      "loss:0.905 acc:97.697%: 100%|██████████| 19/19 [00:00<00:00, 70.38it/s] \n",
      "loss:0.905 acc:97.697%: 100%|██████████| 19/19 [00:00<00:00, 72.18it/s] \n"
     ]
    }
   ],
   "source": [
    "\n",
    "import Model\n",
    "from tqdm import tqdm\n",
    "\n",
    "size = len(data_loader)\n",
    "model = Model.CNNRNN(5)\n",
    "model.to('cuda')\n",
    "model.train()\n",
    "\n",
    "\n",
    "loss_fn = nn.CrossEntropyLoss()\n",
    "optimizer = torch.optim.Adam(model.parameters(), lr=1e-3)\n",
    "\n",
    "\n",
    "for i in range(10):\n",
    "    correct = 0\n",
    "    pbar = tqdm(range(len(data_loader)))\n",
    "    for batch, (X, y) in enumerate(data_loader):\n",
    "        pbar.update()\n",
    "        frames, mask = X\n",
    "        frames = frames.to('cuda')\n",
    "        y = y.to('cuda').type(torch.int64)\n",
    "        pred = model(frames)\n",
    "        loss = loss_fn(pred, y)\n",
    "        optimizer.zero_grad()\n",
    "        loss.backward()\n",
    "        optimizer.step()\n",
    "        correct += (pred.argmax(1) == y).type(torch.float).sum().item()\n",
    "        pbar.set_description(f'loss:{loss.item():<.3f} acc:{correct / (data_loader.batch_size*(batch+1)) * 100 :.3f}%')\n",
    "    del pbar\n"
   ]
  }
 ],
 "metadata": {
  "kernelspec": {
   "display_name": "Python 3",
   "language": "python",
   "name": "python3"
  },
  "language_info": {
   "codemirror_mode": {
    "name": "ipython",
    "version": 3
   },
   "file_extension": ".py",
   "mimetype": "text/x-python",
   "name": "python",
   "nbconvert_exporter": "python",
   "pygments_lexer": "ipython3",
   "version": "3.9.7"
  },
  "orig_nbformat": 4,
  "vscode": {
   "interpreter": {
    "hash": "f5f227904729d2e34638b12d6189826106a201c215150695c35e0f334bf03903"
   }
  }
 },
 "nbformat": 4,
 "nbformat_minor": 2
}
