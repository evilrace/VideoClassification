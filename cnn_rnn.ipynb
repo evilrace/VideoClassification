{
 "cells": [
  {
   "cell_type": "code",
   "execution_count": 1,
   "metadata": {},
   "outputs": [],
   "source": [
    "import torch\n",
    "from torch import nn\n",
    "from torch.utils.data import DataLoader\n",
    "from torchvision import datasets\n",
    "from torchvision.transforms import ToTensor\n",
    "import numpy as np"
   ]
  },
  {
   "cell_type": "code",
   "execution_count": 2,
   "metadata": {},
   "outputs": [],
   "source": [
    "from data.dataset import VideoDataSet\n",
    "train_dataset = VideoDataSet('train')"
   ]
  },
  {
   "cell_type": "code",
   "execution_count": 14,
   "metadata": {},
   "outputs": [],
   "source": [
    "\n",
    "def collate_fn(batch):\n",
    "    frames = [b[0] for b in batch]\n",
    "    masks = [torch.ones(b[0].shape[0]) for b in batch]\n",
    "    frames = torch.nn.utils.rnn.pad_sequence(frames)\n",
    "    masks = torch.nn.utils.rnn.pad_sequence(masks)\n",
    "\n",
    "    frames = torch.transpose(frames, 0 , 1)\n",
    "    masks = torch.transpose(masks, 0 , 1)\n",
    "    batch_new = [((frames, masks), b[1]) for frames, masks, b in zip(frames, masks, batch)]\n",
    "    return batch_new\n",
    "\n",
    "data_lodaer = torch.utils.data.DataLoader(train_dataset,batch_size=4, collate_fn = collate_fn)"
   ]
  },
  {
   "cell_type": "code",
   "execution_count": null,
   "metadata": {},
   "outputs": [],
   "source": []
  }
 ],
 "metadata": {
  "kernelspec": {
   "display_name": "Python 3",
   "language": "python",
   "name": "python3"
  },
  "language_info": {
   "codemirror_mode": {
    "name": "ipython",
    "version": 3
   },
   "file_extension": ".py",
   "mimetype": "text/x-python",
   "name": "python",
   "nbconvert_exporter": "python",
   "pygments_lexer": "ipython3",
   "version": "3.9.7"
  },
  "orig_nbformat": 4,
  "vscode": {
   "interpreter": {
    "hash": "f5f227904729d2e34638b12d6189826106a201c215150695c35e0f334bf03903"
   }
  }
 },
 "nbformat": 4,
 "nbformat_minor": 2
}
